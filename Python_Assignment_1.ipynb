{
  "nbformat": 4,
  "nbformat_minor": 0,
  "metadata": {
    "colab": {
      "name": "Python Assignment 1.ipynb",
      "provenance": [],
      "collapsed_sections": []
    },
    "kernelspec": {
      "name": "python3",
      "display_name": "Python 3"
    }
  },
  "cells": [
    {
      "cell_type": "markdown",
      "metadata": {
        "id": "IBoIkGnXDRxd",
        "colab_type": "text"
      },
      "source": [
        "1. Write a program which will find all such numbers which are divisible by 7 but are not a multiple of 5, between 2000 and 3200 (both included). The numbers obtained should be printed in a comma-separated sequence on a single line.\n",
        "\n",
        "\n",
        "\n"
      ]
    },
    {
      "cell_type": "code",
      "metadata": {
        "id": "_GkynlHNCtyi",
        "colab_type": "code",
        "colab": {}
      },
      "source": [
        "print(\",\".join([str(i) for i in range(2000, 3201) if i % 7 == 0 and i % 5 != 0]))"
      ],
      "execution_count": null,
      "outputs": []
    },
    {
      "cell_type": "markdown",
      "metadata": {
        "id": "gMAKZ47cENX7",
        "colab_type": "text"
      },
      "source": [
        "2. Write a Python program to accept the user's first and last name and then getting them printed in the the reverse order with a space between first name and last name."
      ]
    },
    {
      "cell_type": "code",
      "metadata": {
        "id": "whXKo3p5Ebv7",
        "colab_type": "code",
        "colab": {}
      },
      "source": [
        "print('First Name : ')\n",
        "firstName = input()\n",
        "print('Last Name : ')\n",
        "lastName = input()\n",
        "print(firstName[::-1] + \" \" + lastName[::-1])"
      ],
      "execution_count": null,
      "outputs": []
    },
    {
      "cell_type": "markdown",
      "metadata": {
        "id": "132ofHIFEk8L",
        "colab_type": "text"
      },
      "source": [
        "3. Write a Python program to find the volume of a sphere with diameter 12 cm.\n",
        "Formula V = (4/3)*π*(r^3)"
      ]
    },
    {
      "cell_type": "code",
      "metadata": {
        "id": "zkhvRpiiFURn",
        "colab_type": "code",
        "colab": {}
      },
      "source": [
        "import math\n",
        "\n",
        "d = 12\n",
        "print((4/3)*(math.pi)*math.pow((d/2), 3))"
      ],
      "execution_count": null,
      "outputs": []
    }
  ]
}